{
 "cells": [
  {
   "cell_type": "markdown",
   "metadata": {},
   "source": [
    "# Property Search Playground\n",
    "\n",
    "Perform Auto-merging retrieval using index only on owner name and property legal name.  \n",
    "We will use FAISS index.\n"
   ]
  },
  {
   "cell_type": "markdown",
   "metadata": {},
   "source": [
    "## Setting and Preparations"
   ]
  },
  {
   "cell_type": "code",
   "execution_count": 1,
   "metadata": {},
   "outputs": [],
   "source": [
    "import pandas as pd\n",
    "from llama_index.core import Document, ServiceContext\n",
    "from llama_index.core import VectorStoreIndex, SimpleDirectoryReader, get_response_synthesizer\n",
    "from llama_index.llms.openai import OpenAI\n",
    "import os\n",
    "from llama_index.core.retrievers import VectorIndexRetriever\n",
    "from llama_index.core.query_engine import RetrieverQueryEngine\n",
    "from llama_index.core.schema import TextNode, NodeRelationship, RelatedNodeInfo\n",
    "from llama_index.vector_stores.faiss import FaissVectorStore\n",
    "\n",
    "from llama_index.embeddings.huggingface import HuggingFaceEmbedding\n",
    "import ipywidgets as widgets\n",
    "#widgets.IntSlider()"
   ]
  },
  {
   "cell_type": "code",
   "execution_count": 2,
   "metadata": {},
   "outputs": [],
   "source": [
    "variables_to_define = [\n",
    "    \"OPENAI_API_KEY\",\n",
    "    \"embeddings_llm\",\n",
    "    \"embeddings_cache_folder\",\n",
    "    \"data_path\",\n",
    "    ]\n",
    "def load_env_file(file_path):\n",
    "    try:\n",
    "        with open(file_path, 'r') as file:\n",
    "            for line in file:\n",
    "                # Remove whitespace and comments\n",
    "                line = line.strip()\n",
    "                if line and not line.startswith('#'):\n",
    "                    # Split by the first '=' character\n",
    "                    key, value = line.split('=', 1)\n",
    "                    # Remove any surrounding quotes from the value\n",
    "                    value = value.strip().strip('\"').strip(\"'\")\n",
    "                    # Set the environment variable\n",
    "                    if key in variables_to_define:\n",
    "                        os.environ[key.strip()] = value\n",
    "    except FileNotFoundError:\n",
    "        print(f\"Error: {file_path} not found.\")\n",
    "    except Exception as e:\n",
    "        print(f\"Error loading {file_path}: {e}\")\n",
    "\n",
    "# Load environment variables from .env file\n",
    "project_path = \"/usr/local/stage3technical/var/sand/property-rag-search\"\n",
    "load_env_file(os.path.join(project_path,'.env'))\n",
    "\n",
    "# Define variables from environment variables\n",
    "embeddings_llm = os.getenv(\"embeddings_llm\")\n",
    "embeddings_cache_folder = os.getenv(\"embeddings_cache_folder\")\n",
    "openai_api_key = os.getenv(\"OPENAI_API_KEY\")\n",
    "data_path = os.getenv(\"data_path\")"
   ]
  },
  {
   "cell_type": "markdown",
   "metadata": {},
   "source": [
    "### Define models"
   ]
  },
  {
   "cell_type": "code",
   "execution_count": 3,
   "metadata": {},
   "outputs": [],
   "source": [
    "# Embedding model\n",
    "embedding_model = HuggingFaceEmbedding(model_name=embeddings_llm,\n",
    "                                      cache_folder=embeddings_cache_folder,\n",
    "                                      embed_batch_size=32,\n",
    "                                      )\n",
    "\n",
    "# Generation model\n",
    "generation_llm = OpenAI(\n",
    "    model=\"gpt-4o-mini\",\n",
    "    temperature=0.0,\n",
    "    api_key=openai_api_key,  # uses OPENAI_API_KEY env var by default\n",
    ")"
   ]
  },
  {
   "cell_type": "code",
   "execution_count": 5,
   "metadata": {},
   "outputs": [
    {
     "name": "stdout",
     "output_type": "stream",
     "text": [
      "assistant: I am based on OpenAI's GPT-3 model. However, I don't have a specific model name beyond that. If you have any questions or need assistance, feel free to ask!\n"
     ]
    }
   ],
   "source": [
    "from llama_index.core.llms import ChatMessage\n",
    "messages = [\n",
    "    ChatMessage(\n",
    "        role=\"system\", content=\"You are a helpful assistant that can answer questions about the world.\"\n",
    "    ),\n",
    "    ChatMessage(role=\"user\", content=\"What is your LLM model name?\"),\n",
    "]\n",
    "resp = generation_llm.chat(messages)\n",
    "print(resp)"
   ]
  },
  {
   "cell_type": "code",
   "execution_count": 6,
   "metadata": {},
   "outputs": [],
   "source": [
    "# Mapping columns for preprocessing\n",
    "key_replacements = {\n",
    "    \"propYear\": \"property year\",\n",
    "    \"propID\": \"property ID\",\n",
    "    \"geoID\": \"geographical ID\",\n",
    "    \"propType\": \"property type\",\n",
    "    \"propSubType\": \"property subtype\",\n",
    "    \"propCategoryCode\": \"property category code\",\n",
    "    \"legalDescription\": \"legal description\",\n",
    "    \"dbaName\": \"doing business as name\",\n",
    "    \"propCreateDate\": \"property creation date\",\n",
    "    \"situsBldgNum\": \"situs building number\",\n",
    "    \"situsStreetPrefix\": \"situs street prefix\",\n",
    "    \"situsStreetName\": \"situs street name\",\n",
    "    \"situsStreetSuffix\": \"situs street suffix\",\n",
    "    \"situsUnit\": \"situs unit\",\n",
    "    \"situsCity\": \"situs city\",\n",
    "    \"situsZip\": \"situs ZIP\",\n",
    "    \"situsConcat\": \"situs concatenated\",\n",
    "    \"situsConcatShort\": \"situs concatenated short\",\n",
    "    \"ownerID\": \"owner ID\",\n",
    "    \"ownerName\": \"owner name\",\n",
    "    \"ownerNameAddtl\": \"owner name additional\",\n",
    "    \"ownerAddrLine1\": \"owner address line 1\",\n",
    "    \"ownerAddrLine2\": \"owner address line 2\",\n",
    "    \"ownerAddrCity\": \"owner address city\",\n",
    "    \"ownerAddrState\": \"owner address state\",\n",
    "    \"ownerAddrZip\": \"owner address ZIP\",\n",
    "    \"ownerAddrCountry\": \"owner address country\",\n",
    "    \"taxAgentID\": \"tax agent ID\",\n",
    "    \"taxAgentName\": \"tax agent name\",\n",
    "    \"imprvYearBuilt\": \"improvement year built\",\n",
    "    \"currValYear\": \"current value year\",\n",
    "    \"currValImprv\": \"current value improvement\",\n",
    "    \"currValLand\": \"current value land\",\n",
    "    \"currValMarket\": \"current value market\",\n",
    "    \"currValAgLoss\": \"current value agriculture loss\",\n",
    "    \"currValAppraised\": \"current value appraised\",\n",
    "}\n",
    "\n",
    "key_for_search = {\n",
    "    \"propID\": \"property ID\",\n",
    "    \"legalDescription\": \"legal description\",\n",
    "    \"dbaName\": \"doing business as name\",\n",
    "    \"situsBldgNum\": \"situs building number\",\n",
    "    \"situsStreetPrefix\": \"situs street prefix\",\n",
    "    \"situsStreetName\": \"situs street name\",\n",
    "    \"situsStreetSuffix\": \"situs street suffix\",\n",
    "    \"situsUnit\": \"situs unit\",\n",
    "    \"situsCity\": \"situs city\",\n",
    "    \"situsZip\": \"situs ZIP\",\n",
    "    \"situsConcat\": \"situs concatenated\",\n",
    "    \"ownerID\": \"owner ID\",\n",
    "    \"ownerName\": \"owner name\",\n",
    "    \"ownerNameAddtl\": \"owner name additional\",\n",
    "}\n",
    "\n",
    "def preprocess_csv(file_path):\n",
    "    df = pd.read_csv(file_path)\n",
    "    df.rename(columns=key_replacements, inplace=True)\n",
    "    filtered_df = df[list(key_for_search.values())]\n",
    "    return df, filtered_df\n",
    "\n",
    "def convert_to_documents(df):\n",
    "    return [row.to_dict() for _, row in df.iterrows()]\n",
    "\n",
    "def get_documents_facts(document: dict):\n",
    "    facts = \"\"\n",
    "    for key, value in document.items():\n",
    "        facts += f\"{key}: {value}\\n\"\n",
    "    return facts\n",
    "\n",
    "\n",
    "def create_node_representation(input_dict):\n",
    "    # Extract relevant fields\n",
    "    legal_description = input_dict.get(\"legal description\", \"N/A\")\n",
    "    owner_id = input_dict.get(\"owner ID\", \"N/A\")\n",
    "    owner_name = input_dict.get(\"owner name\", \"N/A\")\n",
    "    owner_name_additional = input_dict.get(\"owner name additional\", \"N/A\")\n",
    "    property_id = input_dict.get(\"property ID\", \"N/A\")\n",
    "    situs_concatenated = input_dict.get(\"situs concatenated\", \"N/A\")\n",
    "    situs_city = input_dict.get(\"situs city\", \"N/A\")\n",
    "    situs_zip = input_dict.get(\"situs ZIP\", \"N/A\")\n",
    "    dba = input_dict.get(\"doing business as name\", \"N/A\")\n",
    "    \n",
    "    # Combine owner names if additional owner exists\n",
    "    if (owner_name_additional in [\"N/A\", \"nan\"] or pd.isna(owner_name_additional)):\n",
    "        owner_names = owner_name\n",
    "    else:\n",
    "        owner_names = f\"{owner_name} and {owner_name_additional}\"\n",
    "\n",
    "    # Construct the natural language description\n",
    "    value = (\n",
    "        f\"This property, located at {situs_concatenated}, is legally described as \"\n",
    "        f\"'{legal_description}'. The property ID is {property_id}. \"\n",
    "        f\"It is owned by {owner_names}, with an owner ID of {owner_id}. \"\n",
    "    )\n",
    "    if not(dba == \"N/A\" or pd.isna(dba)):\n",
    "        value += f\"The property is also known as {dba}.\"\n",
    "\n",
    "    # Construct the output dictionary\n",
    "    output_node = {\n",
    "        \"key\": f\"Property Information - {situs_concatenated}\",\n",
    "        \"value\": value,\n",
    "        \"metadata\": {\n",
    "            \"property_id\": property_id,\n",
    "            \"situs_city\": situs_city,\n",
    "            \"situs_zip\": situs_zip,\n",
    "            \"owner_name\": owner_names,\n",
    "            \"legal_description\": legal_description\n",
    "        }\n",
    "    }\n",
    "    return output_node\n",
    "\n",
    "\n",
    "def get_nodes(input_file_path):\n",
    "    df, filtered_df = preprocess_csv(input_file_path)\n",
    "    documents = convert_to_documents(filtered_df)\n",
    "    full_nodes = []\n",
    "    owner_nodes = []\n",
    "    all_nodes = []\n",
    "    node_id = 0\n",
    "    for document in documents:\n",
    "        doc_node = create_node_representation(document)\n",
    "        node_text = f\"{doc_node['key']}. {doc_node['value']}\"\n",
    "        node_full = TextNode(text=node_text, \n",
    "                             id_=str(node_id),\n",
    "                             metadata=doc_node[\"metadata\"])\n",
    "        node_owner = TextNode(text=doc_node[\"metadata\"][\"owner_name\"],\n",
    "                              id_=str(node_id)+\"_owner\",\n",
    "                              metadata={\n",
    "                                  \"owner_name\":doc_node[\"metadata\"][\"owner_name\"],\n",
    "                                  \"legal_description\":doc_node[\"metadata\"][\"legal_description\"],\n",
    "                              }\n",
    "                              )\n",
    "        node_full.relationships[NodeRelationship.CHILD] = [RelatedNodeInfo(node_id=node_owner.node_id)]\n",
    "        node_owner.relationships[NodeRelationship.PARENT] = RelatedNodeInfo(node_id=node_full.node_id)\n",
    "        node_id += 1        \n",
    "        full_nodes.append(node_full)\n",
    "        owner_nodes.append(node_owner)\n",
    "        all_nodes.append(node_full)\n",
    "        all_nodes.append(node_owner)\n",
    "\n",
    "    return full_nodes, owner_nodes, all_nodes"
   ]
  },
  {
   "cell_type": "code",
   "execution_count": 7,
   "metadata": {},
   "outputs": [
    {
     "name": "stderr",
     "output_type": "stream",
     "text": [
      "/var/folders/_x/tnypr3r90l1301hrh8vy08jm0000gn/T/ipykernel_19729/2476547042.py:59: DtypeWarning: Columns (32,49) have mixed types. Specify dtype option on import or set low_memory=False.\n",
      "  df = pd.read_csv(file_path)\n"
     ]
    }
   ],
   "source": [
    "property_file_path = os.path.join(data_path, \"Collin_CAD_Appraisal_Data_2024_20241208_75024.csv\")\n",
    "# df, filtered_df = preprocess_csv(property_file_path)\n",
    "full_nodes, owner_nodes, all_nodes = get_nodes(property_file_path)"
   ]
  },
  {
   "cell_type": "code",
   "execution_count": 8,
   "metadata": {},
   "outputs": [
    {
     "name": "stdout",
     "output_type": "stream",
     "text": [
      "Number of leaf nodes: 16854\n",
      "Number of root nodes: 16854\n"
     ]
    }
   ],
   "source": [
    "from llama_index.core.node_parser import get_leaf_nodes, get_root_nodes\n",
    "leaf_nodes = get_leaf_nodes(all_nodes)\n",
    "root_nodes = get_root_nodes(all_nodes)\n",
    "print(f\"Number of leaf nodes: {len(leaf_nodes)}\")\n",
    "print(f\"Number of root nodes: {len(root_nodes)}\")"
   ]
  },
  {
   "cell_type": "code",
   "execution_count": 9,
   "metadata": {},
   "outputs": [
    {
     "name": "stdout",
     "output_type": "stream",
     "text": [
      "**************************************************\n",
      "Visible to Embeddings model\n",
      "property_id: 2005248\n",
      "situs_city: PLANO\n",
      "situs_zip: 75024.0\n",
      "owner_name: KING DAVID H\n",
      "legal_description: BRADFORD ESTATES, BLK A, LOT 1\n",
      "\n",
      "Property Information - 4001 CAMROSE DR , PLANO, TX 75024. This property, located at 4001 CAMROSE DR , PLANO, TX 75024, is legally described as 'BRADFORD ESTATES, BLK A, LOT 1'. The property ID is 2005248. It is owned by KING DAVID H, with an owner ID of 299468.\n",
      "**************************************************\n",
      "Visible to LLM\n",
      "property_id: 2005248\n",
      "situs_city: PLANO\n",
      "situs_zip: 75024.0\n",
      "owner_name: KING DAVID H\n",
      "legal_description: BRADFORD ESTATES, BLK A, LOT 1\n",
      "\n",
      "Property Information - 4001 CAMROSE DR , PLANO, TX 75024. This property, located at 4001 CAMROSE DR , PLANO, TX 75024, is legally described as 'BRADFORD ESTATES, BLK A, LOT 1'. The property ID is 2005248. It is owned by KING DAVID H, with an owner ID of 299468.\n"
     ]
    }
   ],
   "source": [
    "from llama_index.core.schema import MetadataMode\n",
    "# This is what is visible to the embeddings model\n",
    "print(\"*\"*50)\n",
    "print(\"Visible to Embeddings model\")\n",
    "print(full_nodes[0].get_content(metadata_mode=MetadataMode.EMBED))\n",
    "\n",
    "# This is what is visible to the LLM\n",
    "print(\"*\"*50)\n",
    "print(\"Visible to LLM\")\n",
    "print(full_nodes[0].get_content(metadata_mode=MetadataMode.LLM))"
   ]
  },
  {
   "cell_type": "code",
   "execution_count": 10,
   "metadata": {},
   "outputs": [
    {
     "name": "stdout",
     "output_type": "stream",
     "text": [
      "Node ID: 10\n",
      "Text: Property Information - 4113 CAMROSE DR , PLANO, TX 75024. This\n",
      "property, located at 4113 CAMROSE DR , PLANO, TX 75024, is legally\n",
      "described as 'BRADFORD ESTATES, BLK A, LOT 11'. The property ID is\n",
      "2005258. It is owned by HAYES JESSEMINE, with an owner ID of 1071053.\n",
      "Node ID: 10_owner\n",
      "Text: HAYES JESSEMINE\n"
     ]
    }
   ],
   "source": [
    "print(full_nodes[10])\n",
    "print(owner_nodes[10])"
   ]
  },
  {
   "cell_type": "code",
   "execution_count": 11,
   "metadata": {},
   "outputs": [
    {
     "data": {
      "text/plain": [
       "{<NodeRelationship.PARENT: '4'>: RelatedNodeInfo(node_id='0', node_type=None, metadata={}, hash=None)}"
      ]
     },
     "execution_count": 11,
     "metadata": {},
     "output_type": "execute_result"
    }
   ],
   "source": [
    "owner_nodes[0].relationships"
   ]
  },
  {
   "cell_type": "code",
   "execution_count": 12,
   "metadata": {},
   "outputs": [
    {
     "data": {
      "text/plain": [
       "{<NodeRelationship.CHILD: '5'>: [RelatedNodeInfo(node_id='0_owner', node_type=None, metadata={}, hash=None)]}"
      ]
     },
     "execution_count": 12,
     "metadata": {},
     "output_type": "execute_result"
    }
   ],
   "source": [
    "full_nodes[0].relationships"
   ]
  },
  {
   "cell_type": "markdown",
   "metadata": {},
   "source": [
    "## Instantiate Document Store"
   ]
  },
  {
   "cell_type": "code",
   "execution_count": 13,
   "metadata": {},
   "outputs": [],
   "source": [
    "# define storage context\n",
    "from llama_index.core.storage.docstore import SimpleDocumentStore\n",
    "from llama_index.core import StorageContext\n",
    "\n",
    "docstore = SimpleDocumentStore()\n",
    "\n",
    "# insert nodes into docstore\n",
    "docstore.add_documents(all_nodes)"
   ]
  },
  {
   "cell_type": "markdown",
   "metadata": {},
   "source": [
    "## Instantiate Index"
   ]
  },
  {
   "cell_type": "code",
   "execution_count": 14,
   "metadata": {},
   "outputs": [],
   "source": [
    "import faiss\n",
    "\n",
    "# dimensions of text-ada-embedding-002 1536\n",
    "# dim BAAI/bge-large-en-v1.5 1024\n",
    "d = 1024\n",
    "faiss_index = faiss.IndexFlatL2(d)\n",
    "\n",
    "vector_store = FaissVectorStore(faiss_index=faiss_index)\n",
    "\n",
    "# define storage context (will include vector store by default too)\n",
    "storage_context = StorageContext.from_defaults(docstore=docstore, vector_store=vector_store)"
   ]
  },
  {
   "cell_type": "code",
   "execution_count": 15,
   "metadata": {},
   "outputs": [
    {
     "data": {
      "application/vnd.jupyter.widget-view+json": {
       "model_id": "670ac9e2b5a74d4bb13ed888d2e3ac50",
       "version_major": 2,
       "version_minor": 0
      },
      "text/plain": [
       "Generating embeddings:   0%|          | 0/10000 [00:00<?, ?it/s]"
      ]
     },
     "metadata": {},
     "output_type": "display_data"
    },
    {
     "data": {
      "application/vnd.jupyter.widget-view+json": {
       "model_id": "c6b58dbf705a4cd1ab6df85d66cc0255",
       "version_major": 2,
       "version_minor": 0
      },
      "text/plain": [
       "Generating embeddings:   0%|          | 0/6854 [00:00<?, ?it/s]"
      ]
     },
     "metadata": {},
     "output_type": "display_data"
    },
    {
     "name": "stdout",
     "output_type": "stream",
     "text": [
      "Owner index created\n"
     ]
    }
   ],
   "source": [
    "# owner_nodes are defined as leaf nodes\n",
    "owner_index = VectorStoreIndex(nodes=owner_nodes,\n",
    "                               embed_model=embedding_model,\n",
    "                               index_name=\"owner_index\",\n",
    "                               show_progress=True,\n",
    "                               insert_batch_size=10000,\n",
    "                               storage_context=storage_context,\n",
    "                              )\n",
    "print(\"Owner index created\")"
   ]
  },
  {
   "cell_type": "markdown",
   "metadata": {},
   "source": [
    "## Define Retriever"
   ]
  },
  {
   "cell_type": "code",
   "execution_count": 16,
   "metadata": {},
   "outputs": [],
   "source": [
    "from llama_index.core.retrievers import AutoMergingRetriever\n",
    "\n",
    "base_retriever = owner_index.as_retriever(similarity_top_k=20)\n",
    "auto_merge_retriever = AutoMergingRetriever(base_retriever, storage_context, verbose=False)"
   ]
  },
  {
   "cell_type": "code",
   "execution_count": 17,
   "metadata": {},
   "outputs": [
    {
     "name": "stdout",
     "output_type": "stream",
     "text": [
      "Number of retrieved nodes: 20\n",
      "Node ID: 3909\n",
      "Text: Property Information - 4408 OVERTON DR , PLANO, TX 75074. This\n",
      "property, located at 4408 OVERTON DR , PLANO, TX 75074, is legally\n",
      "described as 'HUDSON HEIGHTS PHASE ONE, BLK H, LOT 24'. The property\n",
      "ID is 2704055. It is owned by SIDDIKI ALI, with an owner ID of\n",
      "1309718.\n",
      "Score:  0.657\n",
      "\n",
      "Node ID: 3614\n",
      "Text: Property Information - 1505 SWEETWATER CIR , SACHSE, TX 75048.\n",
      "This property, located at 1505 SWEETWATER CIR , SACHSE, TX 75048, is\n",
      "legally described as 'SACHSE WEST ESTATES, BLK A, LOT 11'. The\n",
      "property ID is 1564765. It is owned by MAK JOSHUA A, with an owner ID\n",
      "of 1176059.\n",
      "Score:  0.656\n",
      "\n",
      "Node ID: 11400\n",
      "Text: Property Information - 4200 HEDGCOXE RD , PLANO, TX 75024. This\n",
      "property, located at 4200 HEDGCOXE RD , PLANO, TX 75024, is legally\n",
      "described as 'HEDGCOXE, BLK A, LOT 1R; REPLAT'. The property ID is\n",
      "2527726. It is owned by SPIRITUAL ASSEMBLY OF BAHAIS, with an owner ID\n",
      "of 430611. The property is also known as BAHAI FAITH PLANO CENTER.\n",
      "Score:  0.655\n",
      "\n",
      "Node ID: 11336\n",
      "Text: Property Information - 6200 TENNYSON PKWY 00210, PLANO, TX\n",
      "75024. This property, located at 6200 TENNYSON PKWY 00210, PLANO, TX\n",
      "75024, is legally described as 'BPP AT 1820 PRESTON PARK BLVD'. The\n",
      "property ID is 2892585. It is owned by GENESIS 10, with an owner ID of\n",
      "1295104. The property is also known as GENESIS 10.\n",
      "Score:  0.654\n",
      "\n",
      "Node ID: 8680\n",
      "Text: Property Information - 6500 LAZY OAK LN , PLANO, TX 75024. This\n",
      "property, located at 6500 LAZY OAK LN , PLANO, TX 75024, is legally\n",
      "described as 'POINTE WEST, BLK B, LOT 6'. The property ID is 2628171.\n",
      "It is owned by SALOMON JOSEPH J, with an owner ID of 1058358.\n",
      "Score:  0.653\n",
      "\n",
      "Node ID: 371\n",
      "Text: Property Information - 4708 PARNELL LN , PLANO, TX 75024. This\n",
      "property, located at 4708 PARNELL LN , PLANO, TX 75024, is legally\n",
      "described as 'WELLINGTON RUN I, BLK A, LOT 25'. The property ID is\n",
      "2006229. It is owned by MEYER PAUL J, with an owner ID of 627291.\n",
      "Score:  0.647\n",
      "\n",
      "Node ID: 7205\n",
      "Text: Property Information - 7901 WINDROSE AVE 1806, PLANO, TX 75024.\n",
      "This property, located at 7901 WINDROSE AVE 1806, PLANO, TX 75024, is\n",
      "legally described as 'WINDROSE TOWER AT LEGACY WEST CONDO, UNIT 1806,\n",
      ".724 % CMN INT'. The property ID is 2808434. It is owned by JACOBS\n",
      "JIM, with an owner ID of 1139626.\n",
      "Score:  0.647\n",
      "\n",
      "Node ID: 418\n",
      "Text: Property Information - 6708 THORNBURY DR , PLANO, TX 75024. This\n",
      "property, located at 6708 THORNBURY DR , PLANO, TX 75024, is legally\n",
      "described as 'WELLINGTON RUN I, BLK D, LOT 3'. The property ID is\n",
      "2006276. It is owned by ZHANG JUE, with an owner ID of 924547.\n",
      "Score:  0.644\n",
      "\n",
      "Node ID: 5127\n",
      "Text: Property Information - 8021 CORNELIUS DR , PLANO, TX 75024. This\n",
      "property, located at 8021 CORNELIUS DR , PLANO, TX 75024, is legally\n",
      "described as 'COMMODORE AT PRESTON RESIDENTIAL, BLK D, LOT 30R; (\n",
      "(REPLAT) )'. The property ID is 2794400. It is owned by MA JONATHAN\n",
      "LUKE, with an owner ID of 1154302.\n",
      "Score:  0.643\n",
      "\n",
      "Node ID: 8265\n",
      "Text: Property Information - 1865 SAWMILL DR , LUCAS, TX 75002. This\n",
      "property, located at 1865 SAWMILL DR , LUCAS, TX 75002, is legally\n",
      "described as 'FOREST CREEK ESTATES, BLK 2, LOT 2'. The property ID is\n",
      "2057519. It is owned by SAMUEL JACOB & and NANCY SAMUEL, with an owner\n",
      "ID of 908831.\n",
      "Score:  0.642\n",
      "\n",
      "Node ID: 3932\n",
      "Text: Property Information - 1207 H PL , PLANO, TX 75074. This\n",
      "property, located at 1207 H PL , PLANO, TX 75074, is legally described\n",
      "as 'J T KENDRICK SECOND ADDITION, BLK 2, LOT 5'. The property ID is\n",
      "120586. It is owned by JBH RENTALS 1 LLC and AN INDIVIDUALLY PROTECTED\n",
      "SERIES OF J BROTHERS HOMES LLC, with an owner ID of 1167032.\n",
      "Score:  0.642\n",
      "\n",
      "Node ID: 1614\n",
      "Text: Property Information - 2113 ROSEMARY WAY , ANNA, TX 75409. This\n",
      "property, located at 2113 ROSEMARY WAY , ANNA, TX 75409, is legally\n",
      "described as 'CAMDEN PARC IN ANNA, PHASE 4, BLOCK H, LOT 23'. The\n",
      "property ID is 2850704. It is owned by ZHANG GUIBIN, with an owner ID\n",
      "of 1269145.\n",
      "Score:  0.638\n",
      "\n",
      "Node ID: 15525\n",
      "Text: Property Information - 4519 HELSTON DR , PLANO, TX 75024. This\n",
      "property, located at 4519 HELSTON DR , PLANO, TX 75024, is legally\n",
      "described as 'PRESTON HOLLOW PHASE 2, BLK A, LOT 19; (REPLAT)'. The\n",
      "property ID is 2760366. It is owned by GEBHART JACOB R & NATALIE A,\n",
      "with an owner ID of 1075633.\n",
      "Score:  0.631\n",
      "\n",
      "Node ID: 142\n",
      "Text: Property Information - 4625 SPALDING DR , PLANO, TX 75024. This\n",
      "property, located at 4625 SPALDING DR , PLANO, TX 75024, is legally\n",
      "described as 'BEVERLY HILLS ESTATES, BLK A, LOT 7'. The property ID is\n",
      "2680442. It is owned by GITLIN JONATHAN A, with an owner ID of\n",
      "1301463.\n",
      "Score:  0.626\n",
      "\n",
      "Node ID: 381\n",
      "Text: Property Information - 6705 THORNBURY DR , PLANO, TX 75024. This\n",
      "property, located at 6705 THORNBURY DR , PLANO, TX 75024, is legally\n",
      "described as 'WELLINGTON RUN I, BLK B, LOT 8'. The property ID is\n",
      "2006239. It is owned by LOWRANCE ALEXANDER JACOB & STEPHANIE NICOLE,\n",
      "with an owner ID of 1266958.\n",
      "Score:  0.626\n",
      "\n",
      "Node ID: 861\n",
      "Text: Property Information - 4544 REFUGIO DR , PLANO, TX 75024. This\n",
      "property, located at 4544 REFUGIO DR , PLANO, TX 75024, is legally\n",
      "described as 'VILLAGES OF PRAIRIE COMMONS WEST, BLK D, LOT 34'. The\n",
      "property ID is 2768205. It is owned by SOLOMON JACOB & ORIT, with an\n",
      "owner ID of 1181631.\n",
      "Score:  0.625\n",
      "\n",
      "Node ID: 10612\n",
      "Text: Property Information - 4555 CAPE CHARLES DR , PLANO, TX 75024.\n",
      "This property, located at 4555 CAPE CHARLES DR , PLANO, TX 75024, is\n",
      "legally described as 'PRESTON HOLLOW ADDITION, BLK J, LOT 20'. The\n",
      "property ID is 2069937. It is owned by SAMUEL JACOB & NANCY, with an\n",
      "owner ID of 432197.\n",
      "Score:  0.621\n",
      "\n",
      "Node ID: 10282\n",
      "Text: Property Information - 4008 BREWER DR , PLANO, TX 75024. This\n",
      "property, located at 4008 BREWER DR , PLANO, TX 75024, is legally\n",
      "described as 'FOUNTAIN CREEK NO 1, BLK B, LOT 6'. The property ID is\n",
      "1961806. It is owned by JACOB GEORGE CHEMPITHRA, with an owner ID of\n",
      "1110382.\n",
      "Score:  0.618\n",
      "\n",
      "Node ID: 2931\n",
      "Text: Property Information - 8716 OHIO DR , PLANO, TX 75024. This\n",
      "property, located at 8716 OHIO DR , PLANO, TX 75024, is legally\n",
      "described as 'HAGGAR SQUARE RETAIL CENTER, BLK A, LOT 8'. The property\n",
      "ID is 2119760. It is owned by JACOB SUNNY E & and JACOB ANNAMMA C,\n",
      "with an owner ID of 629995. The property is also known as KWIK KAR.\n",
      "Score:  0.615\n",
      "\n",
      "Node ID: 8052\n",
      "Text: Property Information - 4308 NARBERTH DR , PLANO, TX 75024. This\n",
      "property, located at 4308 NARBERTH DR , PLANO, TX 75024, is legally\n",
      "described as 'STONEHAVEN PLACE SOUTH PHASE TWO, BLK F, LOT 10'. The\n",
      "property ID is 2056212. It is owned by JACOB - THANGARAJ ABRAHAM\n",
      "STEPHEN & JIJI JOSEPH EMMANUEL DHAS, with an owner ID of 945855.\n",
      "Score:  0.557\n",
      "\n"
     ]
    }
   ],
   "source": [
    "# query_str = \"What were some lessons learned from red-teaming?\"\n",
    "# query_str = \"Can you tell me about the key concepts for safety finetuning\"\n",
    "query_str = (\n",
    "    \"What properties are owned by 'Jacob'\"\n",
    ")\n",
    "\n",
    "nodes = auto_merge_retriever.retrieve(query_str)\n",
    "print(f\"Number of retrieved nodes: {len(nodes)}\")\n",
    "for node in nodes:\n",
    "    print(node)\n",
    "    "
   ]
  },
  {
   "cell_type": "code",
   "execution_count": 18,
   "metadata": {},
   "outputs": [
    {
     "name": "stdout",
     "output_type": "stream",
     "text": [
      "Number of retrieved nodes: 20\n",
      "Node ID: 4736\n",
      "Text: Property Information - 4300 HEATH CT , PLANO, TX 75024. This\n",
      "property, located at 4300 HEATH CT , PLANO, TX 75024, is legally\n",
      "described as 'ESTATES AT FOUNTAIN CREEK II PHASE IIB, BLK C, LOT 68'.\n",
      "The property ID is 2036938. It is owned by SMITH PRESTON & ANGELA,\n",
      "with an owner ID of 1269794.\n",
      "Score:  0.624\n",
      "\n",
      "Node ID: 9897\n",
      "Text: Property Information - 6605 INDIAN TRL , PLANO, TX 75024. This\n",
      "property, located at 6605 INDIAN TRL , PLANO, TX 75024, is legally\n",
      "described as 'SHOAL CREEK PHASE III, BLK H, LOT 33'. The property ID\n",
      "is 2068181. It is owned by SMITH PHILIP E & and MELANI WILSON SMITH,\n",
      "with an owner ID of 1159221.\n",
      "Score:  0.624\n",
      "\n",
      "Node ID: 5900\n",
      "Text: Property Information - 4049 WHITE PORCH RD , PLANO, TX 75024.\n",
      "This property, located at 4049 WHITE PORCH RD , PLANO, TX 75024, is\n",
      "legally described as 'HICKORY RIDGE, BLK N, LOT 7'. The property ID is\n",
      "2142396. It is owned by SMITH JOSHUA WAYNE, with an owner ID of\n",
      "1109212.\n",
      "Score:  0.624\n",
      "\n",
      "Node ID: 14798\n",
      "Text: Property Information - 4552 JENKINS DR , PLANO, TX 75024. This\n",
      "property, located at 4552 JENKINS DR , PLANO, TX 75024, is legally\n",
      "described as 'DEERFIELD EAST PHASE TWO, BLK A, LOT 47'. The property\n",
      "ID is 1994143. It is owned by SMITH CECELIA P, with an owner ID of\n",
      "329569.\n",
      "Score:  0.623\n",
      "\n",
      "Node ID: 5861\n",
      "Text: Property Information - 9229 OLD VERANDA RD , PLANO, TX 75024.\n",
      "This property, located at 9229 OLD VERANDA RD , PLANO, TX 75024, is\n",
      "legally described as 'HICKORY RIDGE, BLK L, LOT 23'. The property ID\n",
      "is 2142353. It is owned by SMITH MICHAEL G & JENQ-LIANG LIN, with an\n",
      "owner ID of 572665.\n",
      "Score:  0.622\n",
      "\n",
      "Node ID: 15500\n",
      "Text: Property Information - 818 INWOOD DR , MCKINNEY, TX 75069. This\n",
      "property, located at 818 INWOOD DR , MCKINNEY, TX 75069, is legally\n",
      "described as 'BLACK & SMITH ADDITION, BLK 1, LOT 21B & 22A'. The\n",
      "property ID is 1080957. It is owned by CHEN XIN, with an owner ID of\n",
      "877613.\n",
      "Score:  0.615\n",
      "\n",
      "Node ID: 401\n",
      "Text: Property Information - 4701 TORY HILL CT , PLANO, TX 75024. This\n",
      "property, located at 4701 TORY HILL CT , PLANO, TX 75024, is legally\n",
      "described as 'WELLINGTON RUN I, BLK C, LOT 14; UDI 2020, Undivided\n",
      "Interest 50.0000000000%'. The property ID is 2006259. It is owned by\n",
      "SMITH TATIANA & and ROMAN GOUBIN, with an owner ID of 1161029.\n",
      "Score:  0.611\n",
      "\n",
      "Node ID: 224\n",
      "Text: Property Information - 6616 TAWNY OAK DR , PLANO, TX 75024. This\n",
      "property, located at 6616 TAWNY OAK DR , PLANO, TX 75024, is legally\n",
      "described as 'WELLINGTON RUN II PHASE ONE, BLK B, LOT 5'. The property\n",
      "ID is 2006126. It is owned by FISHER-SMITH AMY, with an owner ID of\n",
      "1130518.\n",
      "Score:  0.604\n",
      "\n",
      "Node ID: 13062\n",
      "Text: Property Information - 4009 BRIAR BLUFF TER , PLANO, TX 75024.\n",
      "This property, located at 4009 BRIAR BLUFF TER , PLANO, TX 75024, is\n",
      "legally described as 'NORTHRIDGE ESTATES PHASE III, BLK E, LOT 5'. The\n",
      "property ID is 2081597. It is owned by SMITH ROBERT J & KIRSTEN L,\n",
      "with an owner ID of 697396.\n",
      "Score:  0.602\n",
      "\n",
      "Node ID: 3335\n",
      "Text: Property Information - 8005 FALLMEADOW CIR , PLANO, TX 75024.\n",
      "This property, located at 8005 FALLMEADOW CIR , PLANO, TX 75024, is\n",
      "legally described as 'CRYSTAL CREEK, BLK H, LOT 26'. The property ID\n",
      "is 2122753. It is owned by SMITH DOUGLAS, with an owner ID of 698058.\n",
      "Score:  0.601\n",
      "\n",
      "Node ID: 9272\n",
      "Text: Property Information - 7942 BISHOP RD , PLANO, TX 75024. This\n",
      "property, located at 7942 BISHOP RD , PLANO, TX 75024, is legally\n",
      "described as 'TOWN HOMES AT LEGACY TOWN CENTER PHASE FOUR THE, BLK D,\n",
      "LOT 10'. The property ID is 2633542. It is owned by SMITH HENRY LEE\n",
      "LIVING TRUST, with an owner ID of 1246164.\n",
      "Score:  0.598\n",
      "\n",
      "Node ID: 1512\n",
      "Text: Property Information - 4009 NORCROSS DR , PLANO, TX 75024. This\n",
      "property, located at 4009 NORCROSS DR , PLANO, TX 75024, is legally\n",
      "described as 'HIGHLAND MEADOWS, BLK 5, LOT 26'. The property ID is\n",
      "15859. It is owned by SMITH MONSERRAT, with an owner ID of 1169000.\n",
      "Score:  0.592\n",
      "\n",
      "Node ID: 12220\n",
      "Text: Property Information - 6805 MULHOUSE CT , PLANO, TX 75024. This\n",
      "property, located at 6805 MULHOUSE CT , PLANO, TX 75024, is legally\n",
      "described as 'NORMANDY ESTATES, BLK D, LOT 5'. The property ID is\n",
      "2646702. It is owned by SMITH JAMES & and DEBORAH SMITH, with an owner\n",
      "ID of 1169469.\n",
      "Score:  0.574\n",
      "\n",
      "Node ID: 13419\n",
      "Text: Property Information - 6849 COLONNADE DR , PLANO, TX 75024. This\n",
      "property, located at 6849 COLONNADE DR , PLANO, TX 75024, is legally\n",
      "described as 'WELLINGTON AT PRESTON MEADOWS PHASE IV, BLK E, LOT 15'.\n",
      "The property ID is 1987414. It is owned by SMITH SHERRY W, with an\n",
      "owner ID of 508522.\n",
      "Score:  0.567\n",
      "\n",
      "Node ID: 9156\n",
      "Text: Property Information - 4813 PASADENA DR , PLANO, TX 75024. This\n",
      "property, located at 4813 PASADENA DR , PLANO, TX 75024, is legally\n",
      "described as 'HARVARD VILLAS, BLK 1, LOT 12'. The property ID is\n",
      "2738151. It is owned by SHOTWELL-SMITH NICOLE CHRISTINA & MONTY JAY\n",
      "SMITH, with an owner ID of 1162331.\n",
      "Score:  0.563\n",
      "\n",
      "Node ID: 10335\n",
      "Text: Property Information - 4688 HOME PL , PLANO, TX 75024. This\n",
      "property, located at 4688 HOME PL , PLANO, TX 75024, is legally\n",
      "described as 'QUINCY PLACE III ADDITION, BLK D, LOT 1'. The property\n",
      "ID is 1962232. It is owned by SMITH JAMES A & FRANCES, with an owner\n",
      "ID of 253938.\n",
      "Score:  0.562\n",
      "\n",
      "Node ID: 13397\n",
      "Text: Property Information - 6829 SAINT LAWRENCE ST , PLANO, TX 75024.\n",
      "This property, located at 6829 SAINT LAWRENCE ST , PLANO, TX 75024, is\n",
      "legally described as 'WELLINGTON AT PRESTON MEADOWS PHASE IV, BLK D,\n",
      "LOT 24'. The property ID is 1987392. It is owned by SMITH FAMILY TRUST\n",
      "THE, with an owner ID of 1207127.\n",
      "Score:  0.550\n",
      "\n",
      "Node ID: 3091\n",
      "Text: Property Information - 3325 WENTWORTH ST , PLANO, TX 75075. This\n",
      "property, located at 3325 WENTWORTH ST , PLANO, TX 75075, is legally\n",
      "described as 'DALLAS NORTH ESTATES 15TH INSTALLMENT, BLK 9, LOT 31'.\n",
      "The property ID is 78356. It is owned by SMITH FAMILY LIVING TRUST-\n",
      "THE, with an owner ID of 1112890.\n",
      "Score:  0.549\n",
      "\n",
      "Node ID: 2653\n",
      "Text: Property Information - 4132 BURNHILL DR , PLANO, TX 75024. This\n",
      "property, located at 4132 BURNHILL DR , PLANO, TX 75024, is legally\n",
      "described as 'STONEHAVEN PLACE PHASE TWO, BLK C, LOT 8'. The property\n",
      "ID is 2023026. It is owned by SMITH JONATHAN M & LESLEY A SMITH, with\n",
      "an owner ID of 1073814.\n",
      "Score:  0.549\n",
      "\n",
      "Node ID: 9224\n",
      "Text: Property Information - 6312 HERMOSA DR , PLANO, TX 75024. This\n",
      "property, located at 6312 HERMOSA DR , PLANO, TX 75024, is legally\n",
      "described as 'HARVARD VILLAS, BLK 4, LOT 18'. The property ID is\n",
      "2738220. It is owned by SMITH KATHRYN, with an owner ID of 1228804.\n",
      "Score:  0.547\n",
      "\n"
     ]
    }
   ],
   "source": [
    "query_str = (\n",
    "    \"What properties are owned by 'Smith'\"\n",
    ")\n",
    "\n",
    "nodes = auto_merge_retriever.retrieve(query_str)\n",
    "print(f\"Number of retrieved nodes: {len(nodes)}\")\n",
    "for node in nodes:\n",
    "    print(node)"
   ]
  },
  {
   "cell_type": "code",
   "execution_count": 19,
   "metadata": {},
   "outputs": [
    {
     "data": {
      "text/plain": [
       "<llama_index.core.retrievers.auto_merging_retriever.AutoMergingRetriever at 0x17f5aeb10>"
      ]
     },
     "execution_count": 19,
     "metadata": {},
     "output_type": "execute_result"
    }
   ],
   "source": [
    "auto_merge_retriever"
   ]
  },
  {
   "cell_type": "markdown",
   "metadata": {},
   "source": [
    "## Query Engine"
   ]
  },
  {
   "cell_type": "code",
   "execution_count": 20,
   "metadata": {},
   "outputs": [],
   "source": [
    "from llama_index.core.query_engine import RetrieverQueryEngine\n",
    "\n",
    "query_engine = RetrieverQueryEngine.from_args(retriever=auto_merge_retriever,\n",
    "                                              llm=generation_llm)"
   ]
  },
  {
   "cell_type": "code",
   "execution_count": 21,
   "metadata": {},
   "outputs": [
    {
     "name": "stdout",
     "output_type": "stream",
     "text": [
      "Query: What properties are owned by 'Smith'\n",
      "The following properties are owned by individuals with the last name 'Smith':\n",
      "\n",
      "1. 4300 HEATH CT, PLANO, TX 75024 - Owned by SMITH PRESTON & ANGELA\n",
      "2. 6605 INDIAN TRL, PLANO, TX 75024 - Owned by SMITH PHILIP E & MELANI WILSON SMITH\n",
      "3. 4049 WHITE PORCH RD, PLANO, TX 75024 - Owned by SMITH JOSHUA WAYNE\n",
      "4. 4552 JENKINS DR, PLANO, TX 75024 - Owned by SMITH CECELIA P\n",
      "5. 9229 OLD VERANDA RD, PLANO, TX 75024 - Owned by SMITH MICHAEL G & JENQ-LIANG LIN\n",
      "6. 4701 TORY HILL CT, PLANO, TX 75024 - Owned by SMITH TATIANA & ROMAN GOUBIN\n",
      "7. 4009 BRIAR BLUFF TER, PLANO, TX 75024 - Owned by SMITH ROBERT J & KIRSTEN L\n",
      "8. 8005 FALLMEADOW CIR, PLANO, TX 75024 - Owned by SMITH DOUGLAS\n",
      "9. 7942 BISHOP RD, PLANO, TX 75024 - Owned by SMITH HENRY LEE LIVING TRUST\n",
      "10. 4009 NORCROSS DR, PLANO, TX 75024 - Owned by SMITH MONSERRAT\n",
      "11. 6805 MULHOUSE CT, PLANO, TX 75024 - Owned by SMITH JAMES & DEBORAH SMITH\n",
      "12. 6849 COLONNADE DR, PLANO, TX 75024 - Owned by SMITH SHERRY W\n",
      "13. 4813 PASADENA DR, PLANO, TX 75024 - Owned by SHOTWELL-SMITH NICOLE CHRISTINA & MONTY JAY SMITH\n",
      "14. 4688 HOME PL, PLANO, TX 75024 - Owned by SMITH JAMES A & FRANCES\n",
      "15. 6829 SAINT LAWRENCE ST, PLANO, TX 75024 - Owned by SMITH FAMILY TRUST THE\n",
      "16. 3325 WENTWORTH ST, PLANO, TX 75075 - Owned by SMITH FAMILY LIVING TRUST- THE\n",
      "17. 4132 BURNHILL DR, PLANO, TX 75024 - Owned by SMITH JONATHAN M & LESLEY A SMITH\n",
      "18. 6312 HERMOSA DR, PLANO, TX 75024 - Owned by SMITH KATHRYN\n",
      "\n",
      "These properties are all located in Plano, TX 75024, with one exception located in Plano, TX 75075.\n",
      "**************************************************\n",
      "Query: What properties are owned by 'Smeeth'\n",
      "There are no properties owned by 'Smeeth' listed in the provided information.\n",
      "**************************************************\n",
      "Query: What properties are owned by 'Smithes'\n",
      "The properties owned by individuals with the name \"Smith\" include:\n",
      "\n",
      "1. 4009 NORCROSS DR, PLANO, TX 75024 - Owned by SMITH MONSERRAT (Property ID: 15859)\n",
      "2. 5745 QUEBEC LN, PLANO, TX 75024 - Owned by JTS TRUST and TIMOTHY BRIAN SMITH & JULIE BOSTICK SMITH - TRUSTEES (Property ID: 2591010)\n",
      "3. 4132 BURNHILL DR, PLANO, TX 75024 - Owned by SMITH JONATHAN M & LESLEY A SMITH (Property ID: 2023026)\n",
      "4. 4813 PASADENA DR, PLANO, TX 75024 - Owned by SHOTWELL-SMITH NICOLE CHRISTINA & MONTY JAY SMITH (Property ID: 2738151)\n",
      "5. 6312 HERMOSA DR, PLANO, TX 75024 - Owned by SMITH KATHRYN (Property ID: 2738220)\n",
      "6. 4688 HOME PL, PLANO, TX 75024 - Owned by SMITH JAMES A & FRANCES (Property ID: 1962232)\n",
      "7. 6805 MULHOUSE CT, PLANO, TX 75024 - Owned by SMITH JAMES & and DEBORAH SMITH (Property ID: 2646702)\n",
      "8. 6849 COLONNADE DR, PLANO, TX 75024 - Owned by SMITH SHERRY W (Property ID: 1987414)\n",
      "9. 6829 SAINT LAWRENCE ST, PLANO, TX 75024 - Owned by SMITH FAMILY TRUST THE (Property ID: 1987392)\n",
      "\n",
      "These properties are associated with various individuals and trusts that include the name \"Smith.\"\n",
      "**************************************************\n"
     ]
    }
   ],
   "source": [
    "query_list = [\n",
    "        (\"What properties are owned by 'Smith'\"),\n",
    "        (\"What properties are owned by 'Smeeth'\"),\n",
    "        (\"What properties are owned by 'Smithes'\"),\n",
    "    ]\n",
    "\n",
    "for query_str in query_list:\n",
    "    response = query_engine.query(query_str)\n",
    "    print(f\"Query: {query_str}\")\n",
    "    print(str(response))\n",
    "    print(\"*\"*50)"
   ]
  },
  {
   "cell_type": "code",
   "execution_count": 22,
   "metadata": {},
   "outputs": [
    {
     "name": "stdout",
     "output_type": "stream",
     "text": [
      "Query: List all owners with name resembling 'Jacob'\n",
      "1. JACOB GEORGE CHEMPITHRA - Owner of the property located at 4008 BREWER DR, PLANO, TX 75024.\n",
      "2. SAMUEL JACOB & NANCY - Owners of the property located at 4555 CAPE CHARLES DR, PLANO, TX 75024.\n",
      "3. JACOB SUNNY E & JACOB ANNAMMA C - Owners of the property located at 8716 OHIO DR, PLANO, TX 75024.\n",
      "4. JACOB - THANGARAJ ABRAHAM STEPHEN & JIJI JOSEPH EMMANUEL DHAS - Owners of the property located at 4308 NARBERTH DR, PLANO, TX 75024.\n",
      "5. GEBHART JACOB R & NATALIE A - Owners of the property located at 4519 HELSTON DR, PLANO, TX 75024.\n",
      "**************************************************\n"
     ]
    }
   ],
   "source": [
    "query_list = [(\"List all owners with name resembling 'Jacob'\"),]\n",
    "\n",
    "for query_str in query_list:\n",
    "    response = query_engine.query(query_str)\n",
    "    print(f\"Query: {query_str}\")\n",
    "    print(str(response))\n",
    "    print(\"*\"*50)"
   ]
  },
  {
   "cell_type": "code",
   "execution_count": 23,
   "metadata": {},
   "outputs": [
    {
     "name": "stdout",
     "output_type": "stream",
     "text": [
      "Query: List all owners with name resembling 'Henry'\n",
      "1. HARRIS HENRY L - Owner ID: 875219, Property ID: 1995101, Address: 4420 ENGLISH OAK DR, PLANO, TX 75024.\n",
      "2. TOW HENRY & SHARON - Owner ID: 737883, Property ID: 11997, Address: 4564 SOUTHGATE DR, PLANO, TX 75024.\n",
      "3. HENRY CHRISTOPHER A CPA - Owner ID: 759556, Property ID: 2651424, Address: 6302 WINDCREST DR, PLANO, TX 75024.\n",
      "**************************************************\n"
     ]
    }
   ],
   "source": [
    "query_list = [(\"List all owners with name resembling 'Henry'\"),]\n",
    "\n",
    "for query_str in query_list:\n",
    "    response = query_engine.query(query_str)\n",
    "    print(f\"Query: {query_str}\")\n",
    "    print(str(response))\n",
    "    print(\"*\"*50)"
   ]
  }
 ],
 "metadata": {
  "kernelspec": {
   "display_name": "collin-12-20-24",
   "language": "python",
   "name": "collin-12-20-24"
  },
  "language_info": {
   "codemirror_mode": {
    "name": "ipython",
    "version": 3
   },
   "file_extension": ".py",
   "mimetype": "text/x-python",
   "name": "python",
   "nbconvert_exporter": "python",
   "pygments_lexer": "ipython3",
   "version": "3.11.7"
  }
 },
 "nbformat": 4,
 "nbformat_minor": 2
}
